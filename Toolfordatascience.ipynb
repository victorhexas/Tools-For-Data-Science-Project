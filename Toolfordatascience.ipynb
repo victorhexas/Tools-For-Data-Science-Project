{
 "cells": [
  {
   "cell_type": "markdown",
   "id": "f7202746-40d0-4824-9d27-dc39899c71c9",
   "metadata": {},
   "source": [
    "# Creating my first Jupyter Notebook"
   ]
  },
  {
   "cell_type": "markdown",
   "id": "ade6668d-e347-4d7f-a422-70b6190a0b9c",
   "metadata": {},
   "source": [
    "#### next, I will leave my final project of Tools for Data Science"
   ]
  },
  {
   "cell_type": "markdown",
   "id": "3cf5bb9f-d34a-4529-89f1-38680360383e",
   "metadata": {},
   "source": [
    "1. Python\n",
    "2. R\n",
    "3. SQL\n",
    "4. Scala\n",
    "5. Java\n",
    "6. C++\n",
    "7. Julia"
   ]
  },
  {
   "cell_type": "markdown",
   "id": "ea4f64c9-b019-4c5d-ac07-09ffac69a47e",
   "metadata": {},
   "source": [
    "## Data Science Libraries\n",
    "#### Python Libraries\n",
    "1. Scientific Computing Libraries\n",
    "* Panda\n",
    "* NumPy    \n",
    "2. Visualization Libraries\n",
    "* Matplotlib\n",
    "* Seaborn\n",
    "3. High-Level - Machine Learning and Deep Learning \n",
    "* Scikit-learn\n",
    "* Keras\n",
    "4. Deep Learning Libraries\n",
    "* TensorFlow\n",
    "* Pytorch "
   ]
  },
  {
   "cell_type": "code",
   "execution_count": null,
   "id": "becbe856-e3fa-4a36-b78b-5d736e6110df",
   "metadata": {},
   "outputs": [],
   "source": [
    "  PostgreSQL NoSQL MongoDB Apache CouchDB, and Apache Cassandra; and file-based tools such as the Hadoop File System or Cloud File systems like Ceph. Finally,Elasticsearch "
   ]
  },
  {
   "cell_type": "markdown",
   "id": "85a5c8c1-1373-48a0-8c56-62445fc04fee",
   "metadata": {},
   "source": [
    "#### Data Science Tools\n",
    "\n",
    "| Data Management | Data Integration | Data Visualization  | Model Deployment    | Code Asset Management\n",
    "| --------------- |:----------------:| :------------------:| :------------------:| :------------------:|\n",
    "| MySQL           | Airflow          | Hue                 | PreditcionIO        | Git\n",
    "| No SQL          | Kafka            |   Kibana            | Mleap               | GitHub\n",
    "| MongoDB         | Spark            |    Superset         | Seldom              | GitLab\n",
    "| Apache          | Cubeflow         |                     | TenserFlow          |\n"
   ]
  },
  {
   "cell_type": "markdown",
   "id": "28e58193-75b1-4685-ae8c-68b93917026e",
   "metadata": {},
   "source": [
    "##### This is a simple arithmetic expression to multiply then add integers\n",
    "(5*2)+4\n",
    "14 "
   ]
  },
  {
   "cell_type": "code",
   "execution_count": 6,
   "id": "e20cc940-adc4-462d-a259-e54ecc4e1ea5",
   "metadata": {},
   "outputs": [
    {
     "data": {
      "text/plain": [
       "24"
      ]
     },
     "execution_count": 6,
     "metadata": {},
     "output_type": "execute_result"
    }
   ],
   "source": [
    "a = 4\n",
    "b = 6\n",
    "c = a*b\n",
    "c"
   ]
  },
  {
   "cell_type": "code",
   "execution_count": 10,
   "id": "e1a47c1a-dc5b-4009-841b-f6a4f421b228",
   "metadata": {},
   "outputs": [
    {
     "data": {
      "text/plain": [
       "2.0"
      ]
     },
     "execution_count": 10,
     "metadata": {},
     "output_type": "execute_result"
    }
   ],
   "source": [
    "minut = 120\n",
    "hours = minut / 60\n",
    "hours"
   ]
  },
  {
   "cell_type": "markdown",
   "id": "4dc2e5e3-63c7-46cf-85e6-3b97dc5ba3a5",
   "metadata": {},
   "source": [
    "# Victor Camargo\n",
    "### Autor's Name"
   ]
  },
  {
   "cell_type": "code",
   "execution_count": null,
   "id": "3ed3c2d4-1081-49f0-9c6f-f48890dbea02",
   "metadata": {},
   "outputs": [],
   "source": []
  }
 ],
 "metadata": {
  "kernelspec": {
   "display_name": "Python",
   "language": "python",
   "name": "conda-env-python-py"
  },
  "language_info": {
   "codemirror_mode": {
    "name": "ipython",
    "version": 3
   },
   "file_extension": ".py",
   "mimetype": "text/x-python",
   "name": "python",
   "nbconvert_exporter": "python",
   "pygments_lexer": "ipython3",
   "version": "3.7.12"
  }
 },
 "nbformat": 4,
 "nbformat_minor": 5
}
